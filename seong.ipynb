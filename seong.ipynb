{
 "cells": [
  {
   "cell_type": "code",
   "execution_count": 10,
   "outputs": [],
   "source": [
    "import numpy as np\n",
    "import torch\n",
    "import torch.nn as nn\n",
    "import torch.nn.functional as F\n",
    "import torchvision\n",
    "\n",
    "from utils import *\n",
    "def bbox_iou(bboxes_1, bboxes_2):\n",
    "    len_bboxes_1 = bboxes_1.shape[0]\n",
    "    len_bboxes_2 = bboxes_2.shape[0]\n",
    "    ious = np.zeros((len_bboxes_1, len_bboxes_2))\n",
    "\n",
    "    for idx, bbox_1 in enumerate(bboxes_1):\n",
    "        yy1_max = np.maximum(bbox_1[0], bboxes_2[:, 0])\n",
    "        xx1_max = np.maximum(bbox_1[1], bboxes_2[:, 1])\n",
    "        yy2_min = np.minimum(bbox_1[2], bboxes_2[:, 2])\n",
    "        xx2_min = np.minimum(bbox_1[3], bboxes_2[:, 3])\n",
    "\n",
    "        height = np.maximum(0.0, yy2_min - yy1_max)\n",
    "        width = np.maximum(0.0, xx2_min - xx1_max)\n",
    "\n",
    "        eps = np.finfo(np.float32).eps\n",
    "        inter = height * width\n",
    "        union = (bbox_1[2] - bbox_1[0]) * (bbox_1[3] - bbox_1[1]) + \\\n",
    "                (bboxes_2[:, 2] - bboxes_2[:, 0]) * (bboxes_2[:, 3] - bboxes_2[:, 1]) - inter + eps\n",
    "        iou = inter / union\n",
    "        ious[idx] = iou\n",
    "\n",
    "    return ious\n",
    "\n",
    "def format_loc(anchors, base_anchors):\n",
    "    height = anchors[:, 2] - anchors[:, 0]\n",
    "    width = anchors[:, 3] - anchors[:, 1]\n",
    "    ctr_y = anchors[:, 0] + height*0.5\n",
    "    ctr_x = anchors[:, 1] + width*0.5\n",
    "\n",
    "    base_height = base_anchors[:, 2] - base_anchors[:, 0]\n",
    "    base_width = base_anchors[:, 3] - base_anchors[:, 1]\n",
    "    base_ctr_y = base_anchors[:, 0] + base_height*0.5\n",
    "    base_ctr_x = base_anchors[:, 1] + base_width*0.5\n",
    "\n",
    "    eps = np.finfo(np.float32).eps\n",
    "    height = np.maximum(eps, height)\n",
    "    width = np.maximum(eps, width)\n",
    "\n",
    "    dy = (base_ctr_y - ctr_y) / height\n",
    "    dx = (base_ctr_x - ctr_x) / width\n",
    "    dh = np.log(base_height / height)\n",
    "    dw = np.log(base_width / width)\n",
    "\n",
    "    anchor_loc_target = np.stack((dy, dx, dh, dw), axis=1)\n",
    "    return anchor_loc_target\n",
    "\n",
    "\n",
    "def deformat_loc(anchors, formatted_base_anchor):\n",
    "    height = anchors[:, 2] - anchors[:, 0]\n",
    "    width = anchors[:, 3] - anchors[:, 1]\n",
    "    ctr_y = anchors[:, 0] + height*0.5\n",
    "    ctr_x = anchors[:, 1] + width*0.5\n",
    "\n",
    "    dy, dx, dh, dw = formatted_base_anchor.T\n",
    "    base_height = np.exp(dh) * height\n",
    "    base_width = np.exp(dw) * width\n",
    "    base_ctr_y = dy * height + ctr_y\n",
    "    base_ctr_x = dx * width + ctr_x\n",
    "\n",
    "    base_anchors = np.zeros_like(anchors)\n",
    "    base_anchors[:, 0] = base_ctr_y - base_height*0.5\n",
    "    base_anchors[:, 1] = base_ctr_x - base_width*0.5\n",
    "    base_anchors[:, 2] = base_ctr_y + base_height*0.5\n",
    "    base_anchors[:, 3] = base_ctr_x + base_width*0.5\n",
    "\n",
    "    return base_anchors\n",
    "\n",
    "\n",
    "def nms(rois, scores, nms_thresh):\n",
    "    order = scores.argsort()[::-1]\n",
    "    y1, x1, y2, x2 = rois.T\n",
    "\n",
    "    keep_index = []\n",
    "\n",
    "    while order.size > 0:\n",
    "        i = order[0]\n",
    "        keep_index.append(i)\n",
    "        ious = bbox_iou(rois[i][np.newaxis, :], rois[order[1:]])\n",
    "        inds = np.where(ious <= nms_thresh)[1]\n",
    "        order = order[inds + 1]\n",
    "    return keep_index\n"
   ],
   "metadata": {
    "collapsed": false,
    "pycharm": {
     "name": "#%%\n"
    }
   }
  },
  {
   "cell_type": "code",
   "source": [
    "image = torch.zeros((1, 3, 800, 800)).float()\n",
    "image_size = (800, 800)\n",
    "\n",
    "# bbox -> y1, x1, y2, x2\n",
    "bbox = torch.FloatTensor([[20, 30, 400, 500], [300, 400, 500, 600]])\n",
    "labels = torch.LongTensor([6, 8])\n",
    "\n",
    "sub_sample = 16\n",
    "\n",
    "vgg16 = torchvision.models.vgg16(pretrained=True)\n",
    "req_features = vgg16.features[:30]\n",
    "output_map = req_features(image)\n",
    "print(output_map.shape)"
   ],
   "metadata": {
    "collapsed": false,
    "pycharm": {
     "name": "#%%\n"
    }
   },
   "execution_count": 4,
   "outputs": [
    {
     "name": "stdout",
     "output_type": "stream",
     "text": [
      "torch.Size([1, 512, 50, 50])\n"
     ]
    }
   ]
  },
  {
   "cell_type": "markdown",
   "source": [],
   "metadata": {
    "collapsed": false
   }
  },
  {
   "cell_type": "code",
   "execution_count": 5,
   "outputs": [
    {
     "name": "stdout",
     "output_type": "stream",
     "text": [
      "[[ -45.254834    -90.50966799   45.254834     90.50966799]\n",
      " [ -64.          -64.           64.           64.        ]\n",
      " [ -90.50966799  -45.254834     90.50966799   45.254834  ]\n",
      " [ -90.50966799 -181.01933598   90.50966799  181.01933598]\n",
      " [-128.         -128.          128.          128.        ]\n",
      " [-181.01933598  -90.50966799  181.01933598   90.50966799]\n",
      " [-181.01933598 -362.03867197  181.01933598  362.03867197]\n",
      " [-256.         -256.          256.          256.        ]\n",
      " [-362.03867197 -181.01933598  362.03867197  181.01933598]]\n"
     ]
    }
   ],
   "source": [
    "anchor_scale = [8, 16, 32]\n",
    "ratio = [0.5, 1, 2] # H/W\n",
    "\n",
    "len_anchor_scale = len(anchor_scale)\n",
    "len_ratio = len(ratio)\n",
    "len_anchor_template = len_anchor_scale * len_ratio\n",
    "anchor_template = np.zeros((9, 4))\n",
    "\n",
    "for idx, scale in enumerate(anchor_scale):\n",
    "    h = scale * np.sqrt(ratio) * sub_sample\n",
    "    w = scale / np.sqrt(ratio) * sub_sample\n",
    "    y1 = -h/2\n",
    "    x1 = -w/2\n",
    "    y2 = h/2\n",
    "    x2 = w/2\n",
    "    anchor_template[idx*len_ratio:(idx+1)*len_ratio, 0] = y1\n",
    "    anchor_template[idx*len_ratio:(idx+1)*len_ratio, 1] = x1\n",
    "    anchor_template[idx*len_ratio:(idx+1)*len_ratio, 2] = y2\n",
    "    anchor_template[idx*len_ratio:(idx+1)*len_ratio, 3] = x2\n",
    "\n",
    "print(anchor_template)\n"
   ],
   "metadata": {
    "collapsed": false,
    "pycharm": {
     "name": "#%%\n"
    }
   }
  },
  {
   "cell_type": "markdown",
   "source": [],
   "metadata": {
    "collapsed": false
   }
  },
  {
   "cell_type": "code",
   "execution_count": 6,
   "outputs": [
    {
     "name": "stdout",
     "output_type": "stream",
     "text": [
      "(50, 50, 2)\n"
     ]
    }
   ],
   "source": [
    "feature_map_size = (50, 50)\n",
    "# The first center coors is (8, 8)\n",
    "ctr_y = np.arange(8, 800, 16)\n",
    "ctr_x = np.arange(8, 800, 16)\n",
    "\n",
    "ctr = np.zeros((*feature_map_size, 2))\n",
    "for idx, y in enumerate(ctr_y):\n",
    "    ctr[idx, :, 0] = y\n",
    "    ctr[idx, :, 1] = ctr_x\n",
    "print(ctr.shape)\n"
   ],
   "metadata": {
    "collapsed": false,
    "pycharm": {
     "name": "#%%\n"
    }
   }
  },
  {
   "cell_type": "code",
   "execution_count": 7,
   "outputs": [
    {
     "name": "stdout",
     "output_type": "stream",
     "text": [
      "(22500, 4)\n"
     ]
    }
   ],
   "source": [
    "anchors = np.zeros((*feature_map_size, 9, 4))\n",
    "\n",
    "for idx_y in range(feature_map_size[0]):\n",
    "    for idx_x in range(feature_map_size[1]):\n",
    "        anchors[idx_y, idx_x] = (ctr[idx_y, idx_x] + anchor_template.reshape(-1, 2, 2)).reshape(-1, 4)\n",
    "\n",
    "anchors = anchors.reshape(-1, 4)\n",
    "print(anchors.shape) # (22500, 4)"
   ],
   "metadata": {
    "collapsed": false,
    "pycharm": {
     "name": "#%%\n"
    }
   }
  },
  {
   "cell_type": "code",
   "execution_count": null,
   "outputs": [],
   "source": [
    "valid_index = np.where((anchors[:, 0] >= 0)\n",
    "                      &(anchors[:, 1] >= 0)\n",
    "                      &(anchors[:, 2] <= 800)\n",
    "                      &(anchors[:, 3] <= 800))[0]\n",
    "print(valid_index.shape) # 8940"
   ],
   "metadata": {
    "collapsed": false,
    "pycharm": {
     "name": "#%%\n"
    }
   }
  },
  {
   "cell_type": "code",
   "execution_count": null,
   "outputs": [],
   "source": [
    "valid_labels = np.empty((valid_index.shape[0],), dtype=np.int32)\n",
    "valid_labels.fill(-1)\n",
    "\n",
    "valid_anchors = anchors[valid_index]\n",
    "\n",
    "print(valid_anchors.shape) # (8940,4)\n",
    "print(bbox.shape) # torch.Size([2,4])\n",
    "\n",
    "\n"
   ],
   "metadata": {
    "collapsed": false,
    "pycharm": {
     "name": "#%%\n"
    }
   }
  },
  {
   "cell_type": "code",
   "execution_count": 9,
   "outputs": [
    {
     "ename": "NameError",
     "evalue": "name 'bbox_iou' is not defined",
     "output_type": "error",
     "traceback": [
      "\u001B[1;31m---------------------------------------------------------------------------\u001B[0m",
      "\u001B[1;31mNameError\u001B[0m                                 Traceback (most recent call last)",
      "\u001B[1;32m<ipython-input-9-7c1e44df5377>\u001B[0m in \u001B[0;36m<module>\u001B[1;34m\u001B[0m\n\u001B[1;32m----> 1\u001B[1;33m \u001B[0mious\u001B[0m \u001B[1;33m=\u001B[0m \u001B[0mbbox_iou\u001B[0m\u001B[1;33m(\u001B[0m\u001B[0mvalid_anchors\u001B[0m\u001B[1;33m,\u001B[0m \u001B[0mbbox\u001B[0m\u001B[1;33m.\u001B[0m\u001B[0mnumpy\u001B[0m\u001B[1;33m(\u001B[0m\u001B[1;33m)\u001B[0m\u001B[1;33m)\u001B[0m \u001B[1;31m# anchor 8940 : bbox 2\u001B[0m\u001B[1;33m\u001B[0m\u001B[1;33m\u001B[0m\u001B[0m\n\u001B[0m\u001B[0;32m      2\u001B[0m \u001B[1;33m\u001B[0m\u001B[0m\n\u001B[0;32m      3\u001B[0m \u001B[0mpos_iou_thres\u001B[0m \u001B[1;33m=\u001B[0m \u001B[1;36m0.7\u001B[0m\u001B[1;33m\u001B[0m\u001B[1;33m\u001B[0m\u001B[0m\n\u001B[0;32m      4\u001B[0m \u001B[0mneg_iou_thred\u001B[0m \u001B[1;33m=\u001B[0m \u001B[1;36m0.3\u001B[0m\u001B[1;33m\u001B[0m\u001B[1;33m\u001B[0m\u001B[0m\n\u001B[0;32m      5\u001B[0m \u001B[1;33m\u001B[0m\u001B[0m\n",
      "\u001B[1;31mNameError\u001B[0m: name 'bbox_iou' is not defined"
     ]
    }
   ],
   "source": [
    "ious = bbox_iou(valid_anchors, bbox.numpy()) # anchor 8940 : bbox 2\n",
    "\n",
    "pos_iou_thres = 0.7\n",
    "neg_iou_thred = 0.3\n",
    "\n",
    "# Scenario A - 논문대로 iou가 0.7 이상이면 pos, 0.3 이하면 neg 나며진 무시\n",
    "anchor_max_iou = np.amax(ious, axis=1)\n",
    "pos_iou_anchor_label = np.where(anchor_max_iou >= pos_iou_thres)[0]\n",
    "neg_iou_anchor_label = np.where(anchor_max_iou < neg_iou_thred)[0]\n",
    "valid_labels[pos_iou_anchor_label] = 1\n",
    "valid_labels[neg_iou_anchor_label] = 0\n",
    "\n",
    "# Scenario B\n",
    "gt_max_iou = np.amax(ious, axis=0)\n",
    "gt_max_iou_anchor_label = np.where(ious == gt_max_iou)[0]\n",
    "print(gt_max_iou_anchor_label)\n",
    "valid_labels[gt_max_iou_anchor_label] = 1\n"
   ],
   "metadata": {
    "collapsed": false,
    "pycharm": {
     "name": "#%%\n"
    }
   }
  },
  {
   "cell_type": "code",
   "execution_count": null,
   "outputs": [],
   "source": [
    "n_sample_anchors = 256\n",
    "pos_ratio = 0.5\n",
    "\n",
    "total_n_pos = len(np.where(valid_labels == 1)[0])\n",
    "n_pos_sample = n_sample_anchors*pos_ratio if total_n_pos > n_sample_anchors*pos_ratio else total_n_pos\n",
    "n_neg_sample = n_sample_anchors - n_pos_sample\n",
    "\n",
    "pos_index = np.where(valid_labels == 1)[0]\n",
    "if len(pos_index) > n_sample_anchors*pos_ratio:\n",
    "    disable_index = np.random.choice(pos_index, size=len(pos_index)-n_pos_sample, replace=False)\n",
    "    valid_labels[disable_index] = -1\n",
    "\n",
    "neg_index = np.where(valid_labels == 0)[0]\n",
    "disable_index = np.random.choice(neg_index, size=len(neg_index) - n_neg_sample, replace=False)\n",
    "valid_labels[disable_index] = -1"
   ],
   "metadata": {
    "collapsed": false,
    "pycharm": {
     "name": "#%% 256개의 mini batch 생성\n"
    }
   }
  },
  {
   "cell_type": "code",
   "execution_count": null,
   "outputs": [],
   "source": [
    "\n",
    "argmax_iou = np.argmax(ious, axis=1)\n",
    "max_iou_box = bbox[argmax_iou].numpy()\n",
    "print(max_iou_box.shape) # 8940, 4\n",
    "print(valid_anchors.shape) # 8940, 4\n",
    "\n",
    "anchor_loc_format_target = format_loc(valid_anchors, max_iou_box)\n",
    "print(anchor_loc_format_target.shape) # 8940, 4"
   ],
   "metadata": {
    "collapsed": false,
    "pycharm": {
     "name": "#%%\n"
    }
   }
  },
  {
   "cell_type": "code",
   "execution_count": null,
   "outputs": [],
   "source": [
    "anchor_target_labels = np.empty((len(anchors),), dtype=np.int32)\n",
    "anchor_target_format_locations = np.zeros((len(anchors), 4), dtype=np.float32)\n",
    "\n",
    "anchor_target_labels.fill(-1)\n",
    "anchor_target_labels[valid_index] = valid_labels\n",
    "\n",
    "anchor_target_format_locations[valid_index] = anchor_loc_format_target\n",
    "\n",
    "print(anchor_target_labels.shape) # 22500,\n",
    "print(anchor_target_format_locations.shape) # 22500, 4"
   ],
   "metadata": {
    "collapsed": false,
    "pycharm": {
     "name": "#%%\n"
    }
   }
  },
  {
   "cell_type": "markdown",
   "source": [
    "# RPN 코드"
   ],
   "metadata": {
    "collapsed": false
   }
  },
  {
   "cell_type": "code",
   "execution_count": null,
   "outputs": [],
   "source": [
    "mid_channel = 512\n",
    "in_channel = 512\n",
    "n_anchor = 9\n",
    "\n",
    "conv1 = nn.Conv2d(in_channel, mid_channel, 3, 1, 1)\n",
    "reg_layer = nn.Conv2d(mid_channel, n_anchor*4, 1, 1, 0)\n",
    "cls_layer = nn.Conv2d(mid_channel, n_anchor*2, 1, 1, 0)\n",
    "\n",
    "x = conv1(output_map)\n",
    "anchor_pred_format_locations = reg_layer(x)\n",
    "anchor_pred_scores = cls_layer(x)\n",
    "\n",
    "print(anchor_pred_format_locations.shape) # torch.Size([1, 36, 50, 50])\n",
    "print(anchor_pred_scores.shape) # torch.Size([1, 18, 50, 50])\n"
   ],
   "metadata": {
    "collapsed": false,
    "pycharm": {
     "name": "#%%\n"
    }
   }
  },
  {
   "cell_type": "code",
   "execution_count": null,
   "outputs": [],
   "source": [
    "anchor_pred_format_locations = anchor_pred_format_locations.permute(0, 2, 3, 1).contiguous().view(1, -1, 4)\n",
    "anchor_pred_scores = anchor_pred_scores.permute(0, 2, 3, 1).contiguous().view(1, -1, 2)\n",
    "objectness_pred_scores = anchor_pred_scores[:, :, 1]"
   ],
   "metadata": {
    "collapsed": false,
    "pycharm": {
     "name": "#%%\n"
    }
   }
  },
  {
   "cell_type": "code",
   "execution_count": null,
   "outputs": [],
   "source": [
    "print(anchor_target_labels.shape)\n",
    "print(anchor_target_format_locations.shape)\n",
    "print(anchor_pred_scores.shape)\n",
    "print(anchor_pred_format_locations.shape)\n",
    "\n",
    "gt_rpn_format_locs = torch.from_numpy(anchor_target_format_locations)\n",
    "gt_rpn_scores = torch.from_numpy(anchor_target_labels)\n",
    "\n",
    "rpn_format_locs = anchor_pred_format_locations[0]\n",
    "rpn_scores = anchor_pred_scores[0]"
   ],
   "metadata": {
    "collapsed": false,
    "pycharm": {
     "name": "#%%\n"
    }
   }
  },
  {
   "cell_type": "code",
   "execution_count": null,
   "outputs": [],
   "source": [
    "rpn_cls_loss = F.cross_entropy(rpn_scores, gt_rpn_scores.long(), ignore_index=-1)\n",
    "print(rpn_cls_loss)\n",
    "\n",
    "\n",
    "####### location loss\n",
    "mask = gt_rpn_scores > 0\n",
    "mask_target_format_locs = gt_rpn_format_locs[mask]\n",
    "mask_pred_format_locs = rpn_format_locs[mask]\n",
    "\n",
    "print(mask_target_format_locs.shape)\n",
    "print(mask_pred_format_locs.shape)\n",
    "\n",
    "x = torch.abs(mask_target_format_locs - mask_pred_format_locs)\n",
    "rpn_loc_loss = ((x<0.5).float()*(x**2)*0.5 + (x>0.5).float()*(x-0.5)).sum()\n",
    "print(rpn_loc_loss)\n",
    "\n",
    "rpn_lambda = 10\n",
    "N_reg = mask.float().sum()\n",
    "\n",
    "rpn_loss = rpn_cls_loss + rpn_lambda / N_reg * rpn_loc_loss\n",
    "print(rpn_loss)"
   ],
   "metadata": {
    "collapsed": false,
    "pycharm": {
     "name": "#%%\n"
    }
   }
  },
  {
   "cell_type": "code",
   "execution_count": null,
   "outputs": [],
   "source": [
    "nms_thresh = 0.7\n",
    "n_train_pre_nms = 12000\n",
    "n_train_post_nms = 2000\n",
    "n_test_pre_nms = 6000\n",
    "n_test_post_nms = 300\n",
    "min_size = 16\n",
    "\n",
    "\n",
    "print(anchors.shape) # 22500, 4\n",
    "print(anchor_pred_format_locations.shape) # 22500, 4\n",
    "\n",
    "rois = deformat_loc(anchors=anchors, formatted_base_anchor=anchor_pred_format_locations[0].data.numpy())\n",
    "print(rois.shape) # 22500, 4\n",
    "\n",
    "print(rois)"
   ],
   "metadata": {
    "collapsed": false,
    "pycharm": {
     "name": "#%%\n"
    }
   }
  },
  {
   "cell_type": "code",
   "execution_count": null,
   "outputs": [],
   "source": [
    "rois[:, 0:4:2] = np.clip(rois[:, 0:4:2], a_min=0, a_max=image_size[0])\n",
    "rois[:, 1:4:2] = np.clip(rois[:, 1:4:2], a_min=0, a_max=image_size[1])\n",
    "print(rois)\n",
    "\n",
    "h = rois[:, 2] - rois[:, 0]\n",
    "w = rois[:, 3] - rois[:, 1]\n",
    "\n",
    "valid_index = np.where((h>min_size)&(w>min_size))[0]\n",
    "valid_rois = rois[valid_index]\n",
    "valid_scores = objectness_pred_scores[0][valid_index].data.numpy()"
   ],
   "metadata": {
    "collapsed": false,
    "pycharm": {
     "name": "#%%\n"
    }
   }
  },
  {
   "cell_type": "code",
   "execution_count": null,
   "outputs": [],
   "source": [
    "valid_score_order = valid_scores.ravel().argsort()[::-1]\n",
    "\n",
    "pre_train_valid_score_order = valid_score_order[:n_train_pre_nms]\n",
    "pre_train_valid_rois = valid_rois[pre_train_valid_score_order]\n",
    "pre_train_valid_scores = valid_scores[pre_train_valid_score_order]\n",
    "\n",
    "print(pre_train_valid_rois.shape) # 12000, 4\n",
    "print(pre_train_valid_scores.shape) # 12000,\n",
    "print(pre_train_valid_score_order.shape) # 12000,"
   ],
   "metadata": {
    "collapsed": false,
    "pycharm": {
     "name": "#%%\n"
    }
   }
  },
  {
   "cell_type": "code",
   "execution_count": null,
   "outputs": [],
   "source": [
    "keep_index = nms(rois=pre_train_valid_rois, scores=pre_train_valid_scores, nms_thresh=nms_thresh)\n",
    "post_train_valid_rois = pre_train_valid_rois[keep_index][:n_train_post_nms]\n",
    "post_train_valid_scores = pre_train_valid_scores[keep_index][:n_train_post_nms]\n",
    "print(post_train_valid_rois.shape) # 2000, 4\n",
    "print(post_train_valid_scores.shape) # 2000,"
   ],
   "metadata": {
    "collapsed": false,
    "pycharm": {
     "name": "#%%\n"
    }
   }
  }
 ],
 "metadata": {
  "kernelspec": {
   "display_name": "Python 3",
   "language": "python",
   "name": "python3"
  },
  "language_info": {
   "codemirror_mode": {
    "name": "ipython",
    "version": 2
   },
   "file_extension": ".py",
   "mimetype": "text/x-python",
   "name": "python",
   "nbconvert_exporter": "python",
   "pygments_lexer": "ipython2",
   "version": "2.7.6"
  }
 },
 "nbformat": 4,
 "nbformat_minor": 0
}